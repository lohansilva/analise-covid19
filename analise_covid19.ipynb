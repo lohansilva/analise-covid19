{
  "nbformat": 4,
  "nbformat_minor": 0,
  "metadata": {
    "colab": {
      "provenance": []
    },
    "kernelspec": {
      "name": "python3",
      "display_name": "Python 3"
    },
    "language_info": {
      "name": "python"
    }
  },
  "cells": [
    {
      "cell_type": "code",
      "execution_count": 23,
      "metadata": {
        "id": "tiovhW6v_eCw",
        "colab": {
          "base_uri": "https://localhost:8080/"
        },
        "outputId": "15169bf9-c648-4b1a-fb60-8b3a0da6a037"
      },
      "outputs": [
        {
          "output_type": "stream",
          "name": "stdout",
          "text": [
            "Looking in indexes: https://pypi.org/simple, https://us-python.pkg.dev/colab-wheels/public/simple/\n",
            "Requirement already satisfied: selenium in /usr/local/lib/python3.9/dist-packages (4.9.0)\n",
            "Requirement already satisfied: trio~=0.17 in /usr/local/lib/python3.9/dist-packages (from selenium) (0.22.0)\n",
            "Requirement already satisfied: trio-websocket~=0.9 in /usr/local/lib/python3.9/dist-packages (from selenium) (0.10.2)\n",
            "Requirement already satisfied: urllib3[socks]~=1.26 in /usr/local/lib/python3.9/dist-packages (from selenium) (1.26.15)\n",
            "Requirement already satisfied: certifi>=2021.10.8 in /usr/local/lib/python3.9/dist-packages (from selenium) (2022.12.7)\n",
            "Requirement already satisfied: sortedcontainers in /usr/local/lib/python3.9/dist-packages (from trio~=0.17->selenium) (2.4.0)\n",
            "Requirement already satisfied: attrs>=19.2.0 in /usr/local/lib/python3.9/dist-packages (from trio~=0.17->selenium) (23.1.0)\n",
            "Requirement already satisfied: outcome in /usr/local/lib/python3.9/dist-packages (from trio~=0.17->selenium) (1.2.0)\n",
            "Requirement already satisfied: sniffio in /usr/local/lib/python3.9/dist-packages (from trio~=0.17->selenium) (1.3.0)\n",
            "Requirement already satisfied: exceptiongroup>=1.0.0rc9 in /usr/local/lib/python3.9/dist-packages (from trio~=0.17->selenium) (1.1.1)\n",
            "Requirement already satisfied: async-generator>=1.9 in /usr/local/lib/python3.9/dist-packages (from trio~=0.17->selenium) (1.10)\n",
            "Requirement already satisfied: idna in /usr/local/lib/python3.9/dist-packages (from trio~=0.17->selenium) (3.4)\n",
            "Requirement already satisfied: wsproto>=0.14 in /usr/local/lib/python3.9/dist-packages (from trio-websocket~=0.9->selenium) (1.2.0)\n",
            "Requirement already satisfied: PySocks!=1.5.7,<2.0,>=1.5.6 in /usr/local/lib/python3.9/dist-packages (from urllib3[socks]~=1.26->selenium) (1.7.1)\n",
            "Requirement already satisfied: h11<1,>=0.9.0 in /usr/local/lib/python3.9/dist-packages (from wsproto>=0.14->trio-websocket~=0.9->selenium) (0.14.0)\n",
            "Looking in indexes: https://pypi.org/simple, https://us-python.pkg.dev/colab-wheels/public/simple/\n",
            "Requirement already satisfied: XlsxWriter in /usr/local/lib/python3.9/dist-packages (3.1.0)\n"
          ]
        }
      ],
      "source": [
        "!pip install selenium\n",
        "!pip install XlsxWriter"
      ]
    },
    {
      "cell_type": "code",
      "source": [
        "%%shell\n",
        "\n",
        "# Add debian buster\n",
        "cat > /etc/apt/sources.list.d/debian.list <<'EOF'\n",
        "deb [arch=amd64 signed-by=/usr/share/keyrings/debian-buster.gpg] http://deb.debian.org/debian buster main\n",
        "deb [arch=amd64 signed-by=/usr/share/keyrings/debian-buster-updates.gpg] http://deb.debian.org/debian buster-updates main\n",
        "deb [arch=amd64 signed-by=/usr/share/keyrings/debian-security-buster.gpg] http://deb.debian.org/debian-security buster/updates main\n",
        "EOF\n",
        "\n",
        "# Add keys\n",
        "apt-key adv --keyserver keyserver.ubuntu.com --recv-keys DCC9EFBF77E11517\n",
        "apt-key adv --keyserver keyserver.ubuntu.com --recv-keys 648ACFD622F3D138\n",
        "apt-key adv --keyserver keyserver.ubuntu.com --recv-keys 112695A0E562B32A\n",
        "\n",
        "apt-key export 77E11517 | gpg --dearmour -o /usr/share/keyrings/debian-buster.gpg\n",
        "apt-key export 22F3D138 | gpg --dearmour -o /usr/share/keyrings/debian-buster-updates.gpg\n",
        "apt-key export E562B32A | gpg --dearmour -o /usr/share/keyrings/debian-security-buster.gpg\n",
        "\n",
        "# Prefer debian repo for chromium* packages only\n",
        "# Note the double-blank lines between entries\n",
        "cat > /etc/apt/preferences.d/chromium.pref << 'EOF'\n",
        "Package: *\n",
        "Pin: release a=eoan\n",
        "Pin-Priority: 500\n",
        "\n",
        "\n",
        "Package: *\n",
        "Pin: origin \"deb.debian.org\"\n",
        "Pin-Priority: 300\n",
        "\n",
        "\n",
        "Package: chromium*\n",
        "Pin: origin \"deb.debian.org\"\n",
        "Pin-Priority: 700\n",
        "EOF"
      ],
      "metadata": {
        "id": "8lqKApDP_nFV"
      },
      "execution_count": null,
      "outputs": []
    },
    {
      "cell_type": "code",
      "source": [
        "!apt-get update\n",
        "!apt-get install chromium chromium-driver"
      ],
      "metadata": {
        "id": "nvoPoVPj_s5z"
      },
      "execution_count": null,
      "outputs": []
    },
    {
      "cell_type": "code",
      "source": [
        "from selenium import webdriver"
      ],
      "metadata": {
        "id": "_134HcVcAdjT"
      },
      "execution_count": null,
      "outputs": []
    },
    {
      "cell_type": "code",
      "source": [
        "#importando as bibliotecas necessárias para leitura dos dados, filtragem e exportação dos dados em excel\n",
        "import requests\n",
        "import pandas as pd\n",
        "import xlsxwriter"
      ],
      "metadata": {
        "id": "87tKi9DNLTap"
      },
      "execution_count": null,
      "outputs": []
    },
    {
      "cell_type": "code",
      "source": [
        "def web_driver():\n",
        "    options = webdriver.ChromeOptions()\n",
        "    options.add_argument(\"--verbose\")\n",
        "    options.add_argument('--no-sandbox')\n",
        "    options.add_argument('--headless')\n",
        "    options.add_argument('--disable-gpu')\n",
        "    options.add_argument(\"--window-size=1920, 1200\")\n",
        "    options.add_argument('--disable-dev-shm-usage')\n",
        "    driver = webdriver.Chrome(options=options)\n",
        "    return driver"
      ],
      "metadata": {
        "id": "7LOvNA_g_7y8"
      },
      "execution_count": null,
      "outputs": []
    },
    {
      "cell_type": "code",
      "source": [
        "driver = web_driver()"
      ],
      "metadata": {
        "id": "VblxTy0XAAvj"
      },
      "execution_count": null,
      "outputs": []
    },
    {
      "cell_type": "code",
      "source": [
        "driver.get('https://ourworldindata.org/covid-cases')"
      ],
      "metadata": {
        "id": "XlJybf7zAk_x"
      },
      "execution_count": null,
      "outputs": []
    },
    {
      "cell_type": "code",
      "source": [
        "botao_download = driver.find_element(\"xpath\", \"/html/body/main/article/div[3]/div[2]/div/div/section[1]/div[2]/div[1]/div/div/div/a[2]\")"
      ],
      "metadata": {
        "id": "rpBXpUcDB1g8"
      },
      "execution_count": null,
      "outputs": []
    },
    {
      "cell_type": "code",
      "source": [
        "botao_download.click()"
      ],
      "metadata": {
        "id": "JNr4B0sNFDxx"
      },
      "execution_count": null,
      "outputs": []
    },
    {
      "cell_type": "code",
      "source": [
        "# Fecha o navegador\n",
        "driver.quit()"
      ],
      "metadata": {
        "id": "o0RE1uS2KGWF"
      },
      "execution_count": null,
      "outputs": []
    },
    {
      "cell_type": "code",
      "source": [
        "# Cria um DataFrame a partir dos dados extraídos\n",
        "covid_data = pd.read_csv('/content/owid-covid-data.csv.crdownload')"
      ],
      "metadata": {
        "id": "lvtnMkLtPveg"
      },
      "execution_count": null,
      "outputs": []
    },
    {
      "cell_type": "code",
      "source": [
        "# Filtrar dados do Brasil e em um determinado periodo\n",
        "brasil_data = covid_data[(covid_data['location'] == 'Brazil') & (covid_data['date'] >= '2023-01-01') & (covid_data['date'] <= '2023-01-05')]"
      ],
      "metadata": {
        "id": "lq5P6wj7P3LK"
      },
      "execution_count": null,
      "outputs": []
    },
    {
      "cell_type": "code",
      "source": [
        "# limpar colunas, para deixar apenas as importantes para análise\n",
        "brasil_data = brasil_data[['date', 'new_cases', 'new_deaths']]"
      ],
      "metadata": {
        "id": "qTS_n9yqP62k"
      },
      "execution_count": null,
      "outputs": []
    },
    {
      "cell_type": "code",
      "source": [
        "# Criar novo arquivo Excel\n",
        "workbook = xlsxwriter.Workbook('analise_covid.xlsx')"
      ],
      "metadata": {
        "id": "lFWj0JP_P9Qg"
      },
      "execution_count": null,
      "outputs": []
    },
    {
      "cell_type": "code",
      "source": [
        "# se tiver dados nan, alterar para o valor \"0\", para evitar erros\n",
        "brasil_data = brasil_data.fillna(0)"
      ],
      "metadata": {
        "id": "r3tF21jjP_ct"
      },
      "execution_count": null,
      "outputs": []
    },
    {
      "cell_type": "code",
      "source": [
        "#criar planilha com os dados\n",
        "worksheet = workbook.add_worksheet('Dados')\n",
        "worksheet.write_row(0, 0, brasil_data.columns)\n",
        "for i, row in enumerate(brasil_data.values):\n",
        "    worksheet.write_row(i+1, 0, row)"
      ],
      "metadata": {
        "id": "hCJTMn_aQBpm"
      },
      "execution_count": null,
      "outputs": []
    },
    {
      "cell_type": "code",
      "source": [
        "# Adicionar gráfico de linhas sobre as novas mortes por covid \n",
        "chart = workbook.add_chart({'type': 'line'})\n",
        "chart.add_series({\n",
        "    'categories': ['Dados', 1, 0, len(brasil_data), 0],\n",
        "    'values': ['Dados', 1, 2, len(brasil_data), 2],\n",
        "    'name': 'Mortes Confirmadas'\n",
        "})\n",
        "\n",
        "chart.set_title({'name': 'Evolução de mortes por COVID-19 no Brasil(5 dias aleatorios)'})\n",
        "chart.set_x_axis({'name': 'Data'})\n",
        "chart.set_y_axis({'name': 'Número de novas mortes'})\n",
        "worksheet.insert_chart('F2', chart)"
      ],
      "metadata": {
        "colab": {
          "base_uri": "https://localhost:8080/"
        },
        "id": "xdtOHEiXQDZK",
        "outputId": "cf4a9d4f-977c-416c-b239-04d4169ad672"
      },
      "execution_count": null,
      "outputs": [
        {
          "output_type": "execute_result",
          "data": {
            "text/plain": [
              "0"
            ]
          },
          "metadata": {},
          "execution_count": 20
        }
      ]
    },
    {
      "cell_type": "code",
      "source": [
        "# Adicionar gráfico de linhas sobre os novos casos confirmados\n",
        "chart2 = workbook.add_chart({'type': 'line'})\n",
        "chart2.set_y_axis({'name': 'Casos confirmados','min': 0, 'max': 35000})\n",
        "chart2.add_series({\n",
        "    'categories': ['Dados', 1, 0, len(brasil_data), 0],\n",
        "    'values': ['Dados', 1, 1, len(brasil_data), 1],\n",
        "    'name': 'Casos confirmados'\n",
        "})\n",
        "chart2.set_title({'name': 'Evolução de novos casos confirmados por COVID-19 no Brasil(5 dias aleatorios)'})\n",
        "chart2.set_x_axis({'name': 'Data'})\n",
        "chart2.set_y_axis({'name': 'Número de casos'})\n",
        "worksheet.insert_chart('N2', chart2)"
      ],
      "metadata": {
        "colab": {
          "base_uri": "https://localhost:8080/"
        },
        "id": "s5pBI0i6QFSt",
        "outputId": "88fd5512-b9b8-46c4-ef3c-7977cad35247"
      },
      "execution_count": null,
      "outputs": [
        {
          "output_type": "execute_result",
          "data": {
            "text/plain": [
              "0"
            ]
          },
          "metadata": {},
          "execution_count": 21
        }
      ]
    },
    {
      "cell_type": "code",
      "source": [
        "# Salvar arquivo\n",
        "workbook.close()"
      ],
      "metadata": {
        "id": "OwBX5dbzQHbm"
      },
      "execution_count": null,
      "outputs": []
    }
  ]
}