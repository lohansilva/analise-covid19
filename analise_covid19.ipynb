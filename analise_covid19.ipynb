{
  "nbformat": 4,
  "nbformat_minor": 0,
  "metadata": {
    "colab": {
      "provenance": [],
      "mount_file_id": "1vMC4A75tqIjRFS3kWwo3A7Y5S84U7I-o",
      "authorship_tag": "ABX9TyPxPzJsnwvpRz2EDISiS/QT",
      "include_colab_link": true
    },
    "kernelspec": {
      "name": "python3",
      "display_name": "Python 3"
    },
    "language_info": {
      "name": "python"
    }
  },
  "cells": [
    {
      "cell_type": "markdown",
      "metadata": {
        "id": "view-in-github",
        "colab_type": "text"
      },
      "source": [
        "<a href=\"https://colab.research.google.com/github/lohansilva/analise-covid19/blob/main/analise_covid19.ipynb\" target=\"_parent\"><img src=\"https://colab.research.google.com/assets/colab-badge.svg\" alt=\"Open In Colab\"/></a>"
      ]
    },
    {
      "cell_type": "code",
      "execution_count": null,
      "metadata": {
        "id": "tiovhW6v_eCw"
      },
      "outputs": [],
      "source": [
        "!pip install selenium\n",
        "!pip install XlsxWriter"
      ]
    },
    {
      "cell_type": "code",
      "source": [
        "%%shell\n",
        "\n",
        "# Add debian buster\n",
        "cat > /etc/apt/sources.list.d/debian.list <<'EOF'\n",
        "deb [arch=amd64 signed-by=/usr/share/keyrings/debian-buster.gpg] http://deb.debian.org/debian buster main\n",
        "deb [arch=amd64 signed-by=/usr/share/keyrings/debian-buster-updates.gpg] http://deb.debian.org/debian buster-updates main\n",
        "deb [arch=amd64 signed-by=/usr/share/keyrings/debian-security-buster.gpg] http://deb.debian.org/debian-security buster/updates main\n",
        "EOF\n",
        "\n",
        "# Add keys\n",
        "apt-key adv --keyserver keyserver.ubuntu.com --recv-keys DCC9EFBF77E11517\n",
        "apt-key adv --keyserver keyserver.ubuntu.com --recv-keys 648ACFD622F3D138\n",
        "apt-key adv --keyserver keyserver.ubuntu.com --recv-keys 112695A0E562B32A\n",
        "\n",
        "apt-key export 77E11517 | gpg --dearmour -o /usr/share/keyrings/debian-buster.gpg\n",
        "apt-key export 22F3D138 | gpg --dearmour -o /usr/share/keyrings/debian-buster-updates.gpg\n",
        "apt-key export E562B32A | gpg --dearmour -o /usr/share/keyrings/debian-security-buster.gpg\n",
        "\n",
        "# Prefer debian repo for chromium* packages only\n",
        "# Note the double-blank lines between entries\n",
        "cat > /etc/apt/preferences.d/chromium.pref << 'EOF'\n",
        "Package: *\n",
        "Pin: release a=eoan\n",
        "Pin-Priority: 500\n",
        "\n",
        "\n",
        "Package: *\n",
        "Pin: origin \"deb.debian.org\"\n",
        "Pin-Priority: 300\n",
        "\n",
        "\n",
        "Package: chromium*\n",
        "Pin: origin \"deb.debian.org\"\n",
        "Pin-Priority: 700\n",
        "EOF"
      ],
      "metadata": {
        "id": "8lqKApDP_nFV"
      },
      "execution_count": null,
      "outputs": []
    },
    {
      "cell_type": "code",
      "source": [
        "!apt-get update\n",
        "!apt-get install chromium chromium-driver"
      ],
      "metadata": {
        "id": "nvoPoVPj_s5z"
      },
      "execution_count": null,
      "outputs": []
    },
    {
      "cell_type": "code",
      "source": [
        "from selenium import webdriver"
      ],
      "metadata": {
        "id": "_134HcVcAdjT"
      },
      "execution_count": 27,
      "outputs": []
    },
    {
      "cell_type": "code",
      "source": [
        "#importando as bibliotecas necessárias para leitura dos dados, filtragem e exportação dos dados em excel\n",
        "import requests\n",
        "import pandas as pd\n",
        "import xlsxwriter"
      ],
      "metadata": {
        "id": "87tKi9DNLTap"
      },
      "execution_count": 28,
      "outputs": []
    },
    {
      "cell_type": "code",
      "source": [
        "def web_driver():\n",
        "    options = webdriver.ChromeOptions()\n",
        "    options.add_argument(\"--verbose\")\n",
        "    options.add_argument('--no-sandbox')\n",
        "    options.add_argument('--headless')\n",
        "    options.add_argument('--disable-gpu')\n",
        "    options.add_argument(\"--window-size=1920, 1200\")\n",
        "    options.add_argument('--disable-dev-shm-usage')\n",
        "    driver = webdriver.Chrome(options=options)\n",
        "    return driver"
      ],
      "metadata": {
        "id": "7LOvNA_g_7y8"
      },
      "execution_count": 29,
      "outputs": []
    },
    {
      "cell_type": "code",
      "source": [
        "driver = web_driver()"
      ],
      "metadata": {
        "id": "VblxTy0XAAvj"
      },
      "execution_count": 30,
      "outputs": []
    },
    {
      "cell_type": "code",
      "source": [
        "driver.get('https://ourworldindata.org/covid-cases')"
      ],
      "metadata": {
        "id": "XlJybf7zAk_x"
      },
      "execution_count": 31,
      "outputs": []
    },
    {
      "cell_type": "code",
      "source": [
        "botao_download = driver.find_element(\"xpath\", \"/html/body/main/article/div[3]/div[2]/div/div/section[1]/div[2]/div[1]/div/div/div/a[2]\")"
      ],
      "metadata": {
        "id": "rpBXpUcDB1g8"
      },
      "execution_count": 32,
      "outputs": []
    },
    {
      "cell_type": "code",
      "source": [
        "botao_download.click()"
      ],
      "metadata": {
        "id": "JNr4B0sNFDxx"
      },
      "execution_count": 33,
      "outputs": []
    },
    {
      "cell_type": "code",
      "source": [
        "# Fecha o navegador\n",
        "driver.quit()"
      ],
      "metadata": {
        "id": "o0RE1uS2KGWF"
      },
      "execution_count": 34,
      "outputs": []
    },
    {
      "cell_type": "code",
      "source": [
        "# Cria um DataFrame a partir dos dados extraídos\n",
        "covid_data = pd.read_csv('/content/owid-covid-data.csv.crdownload')"
      ],
      "metadata": {
        "id": "lvtnMkLtPveg"
      },
      "execution_count": 35,
      "outputs": []
    },
    {
      "cell_type": "code",
      "source": [
        "# Filtrar dados do Brasil e em um determinado periodo\n",
        "brasil_data = covid_data[(covid_data['location'] == 'Brazil') & (covid_data['date'] >= '2023-01-01') & (covid_data['date'] <= '2023-01-05')]"
      ],
      "metadata": {
        "id": "lq5P6wj7P3LK"
      },
      "execution_count": 36,
      "outputs": []
    },
    {
      "cell_type": "code",
      "source": [
        "# limpar colunas, para deixar apenas as importantes para análise\n",
        "brasil_data = brasil_data[['date', 'new_cases', 'new_deaths']]"
      ],
      "metadata": {
        "id": "qTS_n9yqP62k"
      },
      "execution_count": 37,
      "outputs": []
    },
    {
      "cell_type": "code",
      "source": [
        "# Criar novo arquivo Excel\n",
        "workbook = xlsxwriter.Workbook('analise_covid.xlsx')"
      ],
      "metadata": {
        "id": "lFWj0JP_P9Qg"
      },
      "execution_count": 38,
      "outputs": []
    },
    {
      "cell_type": "code",
      "source": [
        "# se tiver dados nan, alterar para o valor \"0\", para evitar erros\n",
        "brasil_data = brasil_data.fillna(0)"
      ],
      "metadata": {
        "id": "r3tF21jjP_ct"
      },
      "execution_count": 39,
      "outputs": []
    },
    {
      "cell_type": "code",
      "source": [
        "#criar planilha com os dados\n",
        "worksheet = workbook.add_worksheet('Dados')\n",
        "worksheet.write_row(0, 0, brasil_data.columns)\n",
        "for i, row in enumerate(brasil_data.values):\n",
        "    worksheet.write_row(i+1, 0, row)"
      ],
      "metadata": {
        "id": "hCJTMn_aQBpm"
      },
      "execution_count": 40,
      "outputs": []
    },
    {
      "cell_type": "code",
      "source": [
        "# Adicionar gráfico de linhas sobre as novas mortes por covid \n",
        "chart = workbook.add_chart({'type': 'line'})\n",
        "chart.add_series({\n",
        "    'categories': ['Dados', 1, 0, len(brasil_data), 0],\n",
        "    'values': ['Dados', 1, 2, len(brasil_data), 2],\n",
        "    'name': 'Mortes Confirmadas'\n",
        "})\n",
        "\n",
        "chart.set_title({'name': 'Evolução de mortes por COVID-19 no Brasil(5 dias aleatorios)'})\n",
        "chart.set_x_axis({'name': 'Data'})\n",
        "chart.set_y_axis({'name': 'Número de novas mortes'})\n",
        "worksheet.insert_chart('F2', chart)"
      ],
      "metadata": {
        "colab": {
          "base_uri": "https://localhost:8080/"
        },
        "id": "xdtOHEiXQDZK",
        "outputId": "d11f1cae-d1df-4371-89dd-b3de175633fd"
      },
      "execution_count": 41,
      "outputs": [
        {
          "output_type": "execute_result",
          "data": {
            "text/plain": [
              "0"
            ]
          },
          "metadata": {},
          "execution_count": 41
        }
      ]
    },
    {
      "cell_type": "code",
      "source": [
        "# Adicionar gráfico de linhas sobre os novos casos confirmados\n",
        "chart2 = workbook.add_chart({'type': 'line'})\n",
        "chart2.set_y_axis({'name': 'Casos confirmados','min': 0, 'max': 35000})\n",
        "chart2.add_series({\n",
        "    'categories': ['Dados', 1, 0, len(brasil_data), 0],\n",
        "    'values': ['Dados', 1, 1, len(brasil_data), 1],\n",
        "    'name': 'Casos confirmados'\n",
        "})\n",
        "chart2.set_title({'name': 'Evolução de novos casos confirmados por COVID-19 no Brasil(5 dias aleatorios)'})\n",
        "chart2.set_x_axis({'name': 'Data'})\n",
        "chart2.set_y_axis({'name': 'Número de casos'})\n",
        "worksheet.insert_chart('N2', chart2)"
      ],
      "metadata": {
        "id": "s5pBI0i6QFSt"
      },
      "execution_count": null,
      "outputs": []
    },
    {
      "cell_type": "code",
      "source": [
        "# Salvar arquivo\n",
        "workbook.close()"
      ],
      "metadata": {
        "id": "OwBX5dbzQHbm"
      },
      "execution_count": 43,
      "outputs": []
    }
  ]
}