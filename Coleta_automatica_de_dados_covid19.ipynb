{
  "nbformat": 4,
  "nbformat_minor": 0,
  "metadata": {
    "colab": {
      "provenance": [],
      "mount_file_id": "17qy8JA4RDpi3q4Pauvb84-VRjTkDt7sj",
      "authorship_tag": "ABX9TyO+lcUZy2P7YknwwMbNsL6J",
      "include_colab_link": true
    },
    "kernelspec": {
      "name": "python3",
      "display_name": "Python 3"
    },
    "language_info": {
      "name": "python"
    }
  },
  "cells": [
    {
      "cell_type": "markdown",
      "metadata": {
        "id": "view-in-github",
        "colab_type": "text"
      },
      "source": [
        "<a href=\"https://colab.research.google.com/github/lohansilva/analise-covid19/blob/main/Coleta_automatica_de_dados_covid19.ipynb\" target=\"_parent\"><img src=\"https://colab.research.google.com/assets/colab-badge.svg\" alt=\"Open In Colab\"/></a>"
      ]
    },
    {
      "cell_type": "markdown",
      "source": [
        "### Autor: Lohan Italo de Souza Almeida Silva\n",
        "### Data: 26/04/2023\n",
        "**Bibliotecas utilizadas:**\n",
        "- requests\n",
        "- pandas\n",
        "- xlsxwriter\n",
        "\n",
        "**Fonte dos dados:**\n",
        "- https://ourworldindata.org/covid-cases\n",
        "\n",
        "**Resumo:**\n",
        "Criei uma análise rápida sobre os dados obtidos no site acima que consiste em filtrar os dados por localização, para que pudesse analisar somente o Brasil(mas pode ser alterado no código), e apliquei um filtro de período(pode ser alterado também) para que tivesse uma visualização melhor do gráfico para verificar a quantidade de novas mortes por dia e quantidade de novos casos por dia no Brasil.\n",
        "\n",
        "**Desafios durante :**\n",
        "- gerar e exportar gráficos para o excel\n",
        "- aprender a utilizar a biblioteca xlswriter\n",
        "\n",
        "**Outra alternativa usando selenium para fazer o download do arquivo em csv:**\n",
        "- https://github.com/lohansilva/analise-covid19\n",
        "\n",
        "**Alguns links que utilizei para me auxiliar no projeto:**\n",
        "- https://stackoverflow.com/questions/65278555/typeerror-nan-inf-not-supported-in-write-number-without-nan-inf-to-errors-w\n",
        "- https://www.youtube.com/watch?v=D13sHx-7n0U\n",
        "- https://www.youtube.com/watch?v=eHZ_d0bINkM\n",
        "- https://www.youtube.com/watch?v=8AMNaVt0z_M&t=899s\n",
        "- https://xlsxwriter.readthedocs.io/getting_started.html\n",
        "- https://stackoverflow.com/questions/72754651/attributeerror-webdriver-object-has-no-attribute-find-element-by-xpath\n",
        "- https://dataguru.cc/step-by-step-guide-to-install-selenium-in-google-colab/"
      ],
      "metadata": {
        "id": "iF-GeT_nK8z7"
      }
    },
    {
      "cell_type": "code",
      "source": [
        "# instalação do XlsxWriter para salvar os graficos no excel\n",
        "!pip install XlsxWriter"
      ],
      "metadata": {
        "id": "WVeQdLV_rusV",
        "colab": {
          "base_uri": "https://localhost:8080/"
        },
        "outputId": "b2526137-0dab-410a-8007-eb416073c75e"
      },
      "execution_count": null,
      "outputs": [
        {
          "output_type": "stream",
          "name": "stdout",
          "text": [
            "Looking in indexes: https://pypi.org/simple, https://us-python.pkg.dev/colab-wheels/public/simple/\n",
            "Collecting XlsxWriter\n",
            "  Downloading XlsxWriter-3.1.0-py3-none-any.whl (152 kB)\n",
            "\u001b[2K     \u001b[90m━━━━━━━━━━━━━━━━━━━━━━━━━━━━━━━━━━━━━━━\u001b[0m \u001b[32m152.7/152.7 kB\u001b[0m \u001b[31m5.6 MB/s\u001b[0m eta \u001b[36m0:00:00\u001b[0m\n",
            "\u001b[?25hInstalling collected packages: XlsxWriter\n",
            "Successfully installed XlsxWriter-3.1.0\n"
          ]
        }
      ]
    },
    {
      "cell_type": "code",
      "source": [
        "#importando as bibliotecas necessárias para leitura dos dados, filtragem e exportação dos dados em excel\n",
        "import requests\n",
        "import pandas as pd\n",
        "import xlsxwriter"
      ],
      "metadata": {
        "id": "7hFRtFnQmm0y"
      },
      "execution_count": null,
      "outputs": []
    },
    {
      "cell_type": "code",
      "source": [
        "# Faz a requisição para a página\n",
        "url = 'https://covid.ourworldindata.org/data/owid-covid-data.csv'\n",
        "headers = {\"User-Agent\":\"Mozilla/5.0 (Windows NT 10.0; Win64; x64) AppleWebKit/537.36 (KHTML, like Gecko) Chrome/112.0.0.0 Safari/537.36\"}\n",
        "r = requests.get(url,headers=headers)"
      ],
      "metadata": {
        "id": "LnNq6KurmpZH"
      },
      "execution_count": null,
      "outputs": []
    },
    {
      "cell_type": "code",
      "source": [
        "# Cria um DataFrame a partir dos dados extraídos\n",
        "covid_data = pd.read_csv(url)"
      ],
      "metadata": {
        "id": "1BqJ4hvKnGXc"
      },
      "execution_count": null,
      "outputs": []
    },
    {
      "cell_type": "code",
      "source": [
        "# Filtrar dados do Brasil e em um determinado periodo\n",
        "brasil_data = covid_data[(covid_data['location'] == 'Brazil') & (covid_data['date'] >= '2023-01-01') & (covid_data['date'] <= '2023-01-05')]"
      ],
      "metadata": {
        "id": "-sIL62DtsFXB"
      },
      "execution_count": null,
      "outputs": []
    },
    {
      "cell_type": "code",
      "source": [
        "# limpar colunas, para deixar apenas as importantes para análise\n",
        "brasil_data = brasil_data[['date', 'new_cases', 'new_deaths']]"
      ],
      "metadata": {
        "id": "QZzdxyD71gnP"
      },
      "execution_count": null,
      "outputs": []
    },
    {
      "cell_type": "code",
      "source": [
        "# Criar novo arquivo Excel\n",
        "workbook = xlsxwriter.Workbook('analise_covid.xlsx')"
      ],
      "metadata": {
        "id": "zwEs2RnqsV5S"
      },
      "execution_count": null,
      "outputs": []
    },
    {
      "cell_type": "code",
      "source": [
        "# se tiver dados nan, alterar para o valor \"0\", para evitar erros\n",
        "brasil_data = brasil_data.fillna(0)"
      ],
      "metadata": {
        "id": "yT2HobI3sZFS"
      },
      "execution_count": null,
      "outputs": []
    },
    {
      "cell_type": "code",
      "source": [
        "#criar planilha com os dados\n",
        "worksheet = workbook.add_worksheet('Dados')\n",
        "worksheet.write_row(0, 0, brasil_data.columns)\n",
        "for i, row in enumerate(brasil_data.values):\n",
        "    worksheet.write_row(i+1, 0, row)"
      ],
      "metadata": {
        "id": "Ewea33D9tXkj"
      },
      "execution_count": null,
      "outputs": []
    },
    {
      "cell_type": "code",
      "source": [
        "# Adicionar gráfico de linhas sobre as novas mortes por covid \n",
        "chart = workbook.add_chart({'type': 'line'})\n",
        "chart.add_series({\n",
        "    'categories': ['Dados', 1, 0, len(brasil_data), 0],\n",
        "    'values': ['Dados', 1, 2, len(brasil_data), 2],\n",
        "    'name': 'Mortes Confirmadas'\n",
        "})\n",
        "\n",
        "chart.set_title({'name': 'Evolução de mortes por COVID-19 no Brasil(5 dias aleatorios)'})\n",
        "chart.set_x_axis({'name': 'Data'})\n",
        "chart.set_y_axis({'name': 'Número de novas mortes'})\n",
        "worksheet.insert_chart('F2', chart)\n"
      ],
      "metadata": {
        "colab": {
          "base_uri": "https://localhost:8080/"
        },
        "id": "cR-UCmDetkpp",
        "outputId": "6e0c97c4-0942-4a03-8bfe-95842eff0e96"
      },
      "execution_count": null,
      "outputs": [
        {
          "output_type": "execute_result",
          "data": {
            "text/plain": [
              "0"
            ]
          },
          "metadata": {},
          "execution_count": 10
        }
      ]
    },
    {
      "cell_type": "code",
      "source": [
        "# Adicionar gráfico de linhas sobre os novos casos confirmados\n",
        "chart2 = workbook.add_chart({'type': 'line'})\n",
        "chart2.set_y_axis({'name': 'Casos confirmados','min': 0, 'max': 35000})\n",
        "chart2.add_series({\n",
        "    'categories': ['Dados', 1, 0, len(brasil_data), 0],\n",
        "    'values': ['Dados', 1, 1, len(brasil_data), 1],\n",
        "    'name': 'Casos confirmados'\n",
        "})\n",
        "chart2.set_title({'name': 'Evolução de novos casos confirmados por COVID-19 no Brasil(5 dias aleatorios)'})\n",
        "chart2.set_x_axis({'name': 'Data'})\n",
        "chart2.set_y_axis({'name': 'Número de casos'})\n",
        "worksheet.insert_chart('N2', chart2)"
      ],
      "metadata": {
        "colab": {
          "base_uri": "https://localhost:8080/"
        },
        "id": "hyZdbp1U8_Oz",
        "outputId": "53bd03a8-c69f-460d-82f2-8f80db096e40"
      },
      "execution_count": null,
      "outputs": [
        {
          "output_type": "execute_result",
          "data": {
            "text/plain": [
              "0"
            ]
          },
          "metadata": {},
          "execution_count": 11
        }
      ]
    },
    {
      "cell_type": "code",
      "source": [
        "# Salvar arquivo\n",
        "workbook.close()"
      ],
      "metadata": {
        "id": "UKP1bRDotrq7"
      },
      "execution_count": null,
      "outputs": []
    }
  ]
}